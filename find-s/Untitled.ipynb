{
 "cells": [
  {
   "cell_type": "code",
   "execution_count": 3,
   "id": "35be0d5f-a05f-4b54-a3ef-bba0e810efb5",
   "metadata": {},
   "outputs": [],
   "source": [
    "# from main import find_s\n",
    "# find_s([])"
   ]
  },
  {
   "cell_type": "code",
   "execution_count": 4,
   "id": "62ba5a3c-2030-4d72-b3a1-b0521f96a688",
   "metadata": {},
   "outputs": [],
   "source": [
    "# import inspect\n",
    "# from main import find_s\n",
    "# print(inspect.getsource(find_s))"
   ]
  },
  {
   "cell_type": "code",
   "execution_count": 14,
   "id": "fed48841-9b69-4c8f-a6a2-cef97246ec08",
   "metadata": {},
   "outputs": [
    {
     "data": {
      "text/plain": [
       "['?', '?', {'circle'}, {'red', 'yellow'}, '?']"
      ]
     },
     "execution_count": 14,
     "metadata": {},
     "output_type": "execute_result"
    }
   ],
   "source": [
    "def find_s(fp:str) -> list:\n",
    "    import pandas as pd\n",
    "    df = pd.read_csv(fp)\n",
    "    h = [set() for _ in range(df.shape[1]-1)]\n",
    "    for i in df.values:\n",
    "        if i[-1] == \"yes\":\n",
    "            for i,v in enumerate(i[:-1]):\n",
    "                if not v in h[i]:\n",
    "                    h[i].add(v)\n",
    "    for i in range(df.shape[1]-1):\n",
    "        if h[i] == set(df.iloc[:,i].unique()):\n",
    "            h[i]='?'\n",
    "    return h\n",
    "\n",
    "find_s(\"faces.csv\")"
   ]
  },
  {
   "cell_type": "code",
   "execution_count": 11,
   "id": "364b1875-27b3-4193-b31c-85bbde5b53c2",
   "metadata": {
    "scrolled": true
   },
   "outputs": [],
   "source": [
    "# def s(hh,d):\n",
    "#     for i,v in enumerate(d):\n",
    "#         print(i, v)\n",
    "#         if not v in hh[i]:\n",
    "#             hh[i].add(v)\n",
    "#         print(hh[i])\n",
    "        \n",
    "        \n",
    "#     return(hh)\n",
    "    \n",
    "# h = [set() for i in range(df.shape[1])]\n",
    "# # if not df is None:\n",
    "# #     h = df.values[0][:-1]\n",
    "# print(s(h,df.values[0][:-1]))"
   ]
  },
  {
   "cell_type": "code",
   "execution_count": 13,
   "id": "1b8412b5-5b20-46c8-a220-3160ebc2f9d4",
   "metadata": {
    "scrolled": true
   },
   "outputs": [],
   "source": [
    "# h = [set() for i in range(df.shape[1])]\n",
    "# for i in df.values:\n",
    "#     if i[-1] == \"yes\":\n",
    "#         h = s(h,i[:-1])\n",
    "# print(h)"
   ]
  },
  {
   "cell_type": "code",
   "execution_count": 101,
   "id": "1189ce64-544b-4c21-9c9e-4f065b5a6c2f",
   "metadata": {},
   "outputs": [],
   "source": [
    "for i in range(df.shape[1]-1):\n",
    "    # print(i)\n",
    "    if h[i] == set(df.iloc[:,i].unique()):\n",
    "        h[i]='?'"
   ]
  },
  {
   "cell_type": "code",
   "execution_count": 2,
   "id": "0605c19c-5c01-4187-a9f4-1b6559d819d7",
   "metadata": {},
   "outputs": [
    {
     "ename": "NameError",
     "evalue": "name 'h' is not defined",
     "output_type": "error",
     "traceback": [
      "\u001b[0;31m---------------------------------------------------------------------------\u001b[0m",
      "\u001b[0;31mNameError\u001b[0m                                 Traceback (most recent call last)",
      "Cell \u001b[0;32mIn[2], line 12\u001b[0m\n\u001b[1;32m      1\u001b[0m \u001b[38;5;66;03m# df.info()\tGeneral information (index, column names, non-null counts, data types).\u001b[39;00m\n\u001b[1;32m      2\u001b[0m \u001b[38;5;66;03m# df.describe()\tBasic statistical summary of numeric (or all) columns.\u001b[39;00m\n\u001b[1;32m      3\u001b[0m \u001b[38;5;66;03m# df.shape\tDimensions of the DataFrame.\u001b[39;00m\n\u001b[0;32m   (...)\u001b[0m\n\u001b[1;32m     10\u001b[0m \u001b[38;5;66;03m# df.corr()\tPairwise correlation of numerical columns.\u001b[39;00m\n\u001b[1;32m     11\u001b[0m \u001b[38;5;66;03m# df.sample()\tRandomly select a subset of rows.\u001b[39;00m\n\u001b[0;32m---> 12\u001b[0m \u001b[43mh\u001b[49m\n",
      "\u001b[0;31mNameError\u001b[0m: name 'h' is not defined"
     ]
    }
   ],
   "source": [
    "# df.info()\tGeneral information (index, column names, non-null counts, data types).\n",
    "# df.describe()\tBasic statistical summary of numeric (or all) columns.\n",
    "# df.shape\tDimensions of the DataFrame.\n",
    "# df.head()/df.tail()\tFirst/last n rows of the DataFrame.\n",
    "# df.columns\tList of column names.\n",
    "# df.index\tIndex labels of rows.\n",
    "# df.memory_usage()\tMemory usage of each column in bytes.\n",
    "# df.nunique()\tNumber of unique values per column.\n",
    "# df.value_counts()\tFrequency count of unique values in a column.\n",
    "# df.corr()\tPairwise correlation of numerical columns.\n",
    "# df.sample()\tRandomly select a subset of rows.\n",
    "h"
   ]
  },
  {
   "cell_type": "code",
   "execution_count": null,
   "id": "461c664d-d3c2-44f6-bee7-f8c42b7a65e5",
   "metadata": {},
   "outputs": [],
   "source": []
  }
 ],
 "metadata": {
  "kernelspec": {
   "display_name": "Python 3 (ipykernel)",
   "language": "python",
   "name": "python3"
  },
  "language_info": {
   "codemirror_mode": {
    "name": "ipython",
    "version": 3
   },
   "file_extension": ".py",
   "mimetype": "text/x-python",
   "name": "python",
   "nbconvert_exporter": "python",
   "pygments_lexer": "ipython3",
   "version": "3.11.2"
  }
 },
 "nbformat": 4,
 "nbformat_minor": 5
}
